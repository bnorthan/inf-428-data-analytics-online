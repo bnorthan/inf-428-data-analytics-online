{
 "cells": [
  {
   "cell_type": "code",
   "execution_count": 23,
   "metadata": {},
   "outputs": [],
   "source": [
    "import pandas as pd"
   ]
  },
  {
   "cell_type": "code",
   "execution_count": 24,
   "metadata": {},
   "outputs": [],
   "source": [
    "data=pd.read_csv('C:\\\\Users\\\\bnort\\\\INF428\\\\data2021\\\\Basketball\\\\Tatum.csv')"
   ]
  },
  {
   "cell_type": "code",
   "execution_count": 25,
   "metadata": {},
   "outputs": [
    {
     "data": {
      "text/html": [
       "<div>\n",
       "<style scoped>\n",
       "    .dataframe tbody tr th:only-of-type {\n",
       "        vertical-align: middle;\n",
       "    }\n",
       "\n",
       "    .dataframe tbody tr th {\n",
       "        vertical-align: top;\n",
       "    }\n",
       "\n",
       "    .dataframe thead th {\n",
       "        text-align: right;\n",
       "    }\n",
       "</style>\n",
       "<table border=\"1\" class=\"dataframe\">\n",
       "  <thead>\n",
       "    <tr style=\"text-align: right;\">\n",
       "      <th></th>\n",
       "      <th>Season</th>\n",
       "      <th>Age</th>\n",
       "      <th>Tm</th>\n",
       "      <th>Lg</th>\n",
       "      <th>Pos</th>\n",
       "      <th>G</th>\n",
       "      <th>GS</th>\n",
       "      <th>MP</th>\n",
       "      <th>FG</th>\n",
       "      <th>FGA</th>\n",
       "      <th>...</th>\n",
       "      <th>FT%</th>\n",
       "      <th>ORB</th>\n",
       "      <th>DRB</th>\n",
       "      <th>TRB</th>\n",
       "      <th>AST</th>\n",
       "      <th>STL</th>\n",
       "      <th>BLK</th>\n",
       "      <th>TOV</th>\n",
       "      <th>PF</th>\n",
       "      <th>PTS</th>\n",
       "    </tr>\n",
       "  </thead>\n",
       "  <tbody>\n",
       "    <tr>\n",
       "      <td>0</td>\n",
       "      <td>2017-18</td>\n",
       "      <td>19.0</td>\n",
       "      <td>BOS</td>\n",
       "      <td>NBA</td>\n",
       "      <td>SF</td>\n",
       "      <td>80</td>\n",
       "      <td>80</td>\n",
       "      <td>30.5</td>\n",
       "      <td>5.0</td>\n",
       "      <td>10.4</td>\n",
       "      <td>...</td>\n",
       "      <td>0.826</td>\n",
       "      <td>0.6</td>\n",
       "      <td>4.4</td>\n",
       "      <td>5.0</td>\n",
       "      <td>1.6</td>\n",
       "      <td>1.0</td>\n",
       "      <td>0.7</td>\n",
       "      <td>1.4</td>\n",
       "      <td>2.1</td>\n",
       "      <td>13.9</td>\n",
       "    </tr>\n",
       "    <tr>\n",
       "      <td>1</td>\n",
       "      <td>2018-19</td>\n",
       "      <td>20.0</td>\n",
       "      <td>BOS</td>\n",
       "      <td>NBA</td>\n",
       "      <td>SF</td>\n",
       "      <td>79</td>\n",
       "      <td>79</td>\n",
       "      <td>31.1</td>\n",
       "      <td>5.9</td>\n",
       "      <td>13.1</td>\n",
       "      <td>...</td>\n",
       "      <td>0.855</td>\n",
       "      <td>0.9</td>\n",
       "      <td>5.2</td>\n",
       "      <td>6.0</td>\n",
       "      <td>2.1</td>\n",
       "      <td>1.1</td>\n",
       "      <td>0.7</td>\n",
       "      <td>1.5</td>\n",
       "      <td>2.1</td>\n",
       "      <td>15.7</td>\n",
       "    </tr>\n",
       "    <tr>\n",
       "      <td>2</td>\n",
       "      <td>2019-20</td>\n",
       "      <td>21.0</td>\n",
       "      <td>BOS</td>\n",
       "      <td>NBA</td>\n",
       "      <td>PF</td>\n",
       "      <td>66</td>\n",
       "      <td>66</td>\n",
       "      <td>34.3</td>\n",
       "      <td>8.4</td>\n",
       "      <td>18.6</td>\n",
       "      <td>...</td>\n",
       "      <td>0.812</td>\n",
       "      <td>1.0</td>\n",
       "      <td>6.0</td>\n",
       "      <td>7.0</td>\n",
       "      <td>3.0</td>\n",
       "      <td>1.4</td>\n",
       "      <td>0.9</td>\n",
       "      <td>2.3</td>\n",
       "      <td>2.1</td>\n",
       "      <td>23.4</td>\n",
       "    </tr>\n",
       "    <tr>\n",
       "      <td>3</td>\n",
       "      <td>2020-21</td>\n",
       "      <td>22.0</td>\n",
       "      <td>BOS</td>\n",
       "      <td>NBA</td>\n",
       "      <td>SF</td>\n",
       "      <td>25</td>\n",
       "      <td>25</td>\n",
       "      <td>35.5</td>\n",
       "      <td>9.4</td>\n",
       "      <td>21.0</td>\n",
       "      <td>...</td>\n",
       "      <td>0.868</td>\n",
       "      <td>0.6</td>\n",
       "      <td>6.5</td>\n",
       "      <td>7.1</td>\n",
       "      <td>4.6</td>\n",
       "      <td>1.3</td>\n",
       "      <td>0.5</td>\n",
       "      <td>2.5</td>\n",
       "      <td>2.0</td>\n",
       "      <td>26.0</td>\n",
       "    </tr>\n",
       "    <tr>\n",
       "      <td>4</td>\n",
       "      <td>Career</td>\n",
       "      <td>NaN</td>\n",
       "      <td>NaN</td>\n",
       "      <td>NBA</td>\n",
       "      <td>NaN</td>\n",
       "      <td>250</td>\n",
       "      <td>250</td>\n",
       "      <td>32.2</td>\n",
       "      <td>6.6</td>\n",
       "      <td>14.5</td>\n",
       "      <td>...</td>\n",
       "      <td>0.834</td>\n",
       "      <td>0.8</td>\n",
       "      <td>5.3</td>\n",
       "      <td>6.1</td>\n",
       "      <td>2.4</td>\n",
       "      <td>1.2</td>\n",
       "      <td>0.7</td>\n",
       "      <td>1.8</td>\n",
       "      <td>2.1</td>\n",
       "      <td>18.2</td>\n",
       "    </tr>\n",
       "  </tbody>\n",
       "</table>\n",
       "<p>5 rows × 30 columns</p>\n",
       "</div>"
      ],
      "text/plain": [
       "    Season   Age   Tm   Lg  Pos    G   GS    MP   FG   FGA  ...    FT%  ORB  \\\n",
       "0  2017-18  19.0  BOS  NBA   SF   80   80  30.5  5.0  10.4  ...  0.826  0.6   \n",
       "1  2018-19  20.0  BOS  NBA   SF   79   79  31.1  5.9  13.1  ...  0.855  0.9   \n",
       "2  2019-20  21.0  BOS  NBA   PF   66   66  34.3  8.4  18.6  ...  0.812  1.0   \n",
       "3  2020-21  22.0  BOS  NBA   SF   25   25  35.5  9.4  21.0  ...  0.868  0.6   \n",
       "4   Career   NaN  NaN  NBA  NaN  250  250  32.2  6.6  14.5  ...  0.834  0.8   \n",
       "\n",
       "   DRB  TRB  AST  STL  BLK  TOV   PF   PTS  \n",
       "0  4.4  5.0  1.6  1.0  0.7  1.4  2.1  13.9  \n",
       "1  5.2  6.0  2.1  1.1  0.7  1.5  2.1  15.7  \n",
       "2  6.0  7.0  3.0  1.4  0.9  2.3  2.1  23.4  \n",
       "3  6.5  7.1  4.6  1.3  0.5  2.5  2.0  26.0  \n",
       "4  5.3  6.1  2.4  1.2  0.7  1.8  2.1  18.2  \n",
       "\n",
       "[5 rows x 30 columns]"
      ]
     },
     "execution_count": 25,
     "metadata": {},
     "output_type": "execute_result"
    }
   ],
   "source": [
    "data.head()"
   ]
  },
  {
   "cell_type": "code",
   "execution_count": 26,
   "metadata": {},
   "outputs": [
    {
     "data": {
      "text/plain": [
       "pandas.core.frame.DataFrame"
      ]
     },
     "execution_count": 26,
     "metadata": {},
     "output_type": "execute_result"
    }
   ],
   "source": [
    "type(data)"
   ]
  },
  {
   "cell_type": "code",
   "execution_count": 27,
   "metadata": {},
   "outputs": [
    {
     "data": {
      "text/plain": [
       "(5, 30)"
      ]
     },
     "execution_count": 27,
     "metadata": {},
     "output_type": "execute_result"
    }
   ],
   "source": [
    "data.shape"
   ]
  },
  {
   "cell_type": "code",
   "execution_count": 28,
   "metadata": {},
   "outputs": [
    {
     "name": "stdout",
     "output_type": "stream",
     "text": [
      "    Season   Age   Tm   Lg  Pos    G   GS    MP   FG   FGA  ...    FT%  ORB  \\\n",
      "0  2017-18  19.0  BOS  NBA   SF   80   80  30.5  5.0  10.4  ...  0.826  0.6   \n",
      "1  2018-19  20.0  BOS  NBA   SF   79   79  31.1  5.9  13.1  ...  0.855  0.9   \n",
      "2  2019-20  21.0  BOS  NBA   PF   66   66  34.3  8.4  18.6  ...  0.812  1.0   \n",
      "3  2020-21  22.0  BOS  NBA   SF   25   25  35.5  9.4  21.0  ...  0.868  0.6   \n",
      "4   Career   NaN  NaN  NBA  NaN  250  250  32.2  6.6  14.5  ...  0.834  0.8   \n",
      "\n",
      "   DRB  TRB  AST  STL  BLK  TOV   PF   PTS  \n",
      "0  4.4  5.0  1.6  1.0  0.7  1.4  2.1  13.9  \n",
      "1  5.2  6.0  2.1  1.1  0.7  1.5  2.1  15.7  \n",
      "2  6.0  7.0  3.0  1.4  0.9  2.3  2.1  23.4  \n",
      "3  6.5  7.1  4.6  1.3  0.5  2.5  2.0  26.0  \n",
      "4  5.3  6.1  2.4  1.2  0.7  1.8  2.1  18.2  \n",
      "\n",
      "[5 rows x 30 columns]\n"
     ]
    }
   ],
   "source": [
    "print(data)"
   ]
  },
  {
   "cell_type": "code",
   "execution_count": null,
   "metadata": {},
   "outputs": [],
   "source": []
  }
 ],
 "metadata": {
  "kernelspec": {
   "display_name": "Python 3",
   "language": "python",
   "name": "python3"
  },
  "language_info": {
   "codemirror_mode": {
    "name": "ipython",
    "version": 3
   },
   "file_extension": ".py",
   "mimetype": "text/x-python",
   "name": "python",
   "nbconvert_exporter": "python",
   "pygments_lexer": "ipython3",
   "version": "3.7.4"
  }
 },
 "nbformat": 4,
 "nbformat_minor": 2
}
