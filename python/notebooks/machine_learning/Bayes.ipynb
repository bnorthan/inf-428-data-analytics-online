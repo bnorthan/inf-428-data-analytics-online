{
 "cells": [
  {
   "cell_type": "markdown",
   "metadata": {},
   "source": [
    "# Baye's theorem coronavirus example\n",
    "\n",
    "Some background on Baye's theorem\n",
    "\n",
    "https://en.wikipedia.org/wiki/Bayes%27_theorem\n",
    "\n",
    "Some background on Naive Baye's\n",
    "\n",
    "https://en.wikipedia.org/wiki/Naive_Bayes_classifier"
   ]
  },
  {
   "cell_type": "code",
   "execution_count": 5,
   "metadata": {},
   "outputs": [],
   "source": [
    "# cough given corona\n",
    "cough_corona = .5\n",
    "# fever given corona\n",
    "fever_corona = .5\n",
    "\n",
    "# assuming independence (naive assumption) \n",
    "cough_fever_corona=cough_corona*fever_corona\n",
    "\n",
    "# fever given flu\n",
    "fever_flu = .4\n",
    "# cough given flu\n",
    "cough_flu = .4\n",
    "\n",
    "# assuming independence (naive assumption) \n",
    "cough_fever_flu=cough_flu*fever_flu\n",
    "\n",
    "# probability of cough and fever in general\n",
    "p_cough_fever = .2"
   ]
  },
  {
   "cell_type": "markdown",
   "metadata": {},
   "source": [
    "## Situation In December"
   ]
  },
  {
   "cell_type": "code",
   "execution_count": 8,
   "metadata": {},
   "outputs": [
    {
     "name": "stdout",
     "output_type": "stream",
     "text": [
      "probability of conrona  0.00125\n",
      "probability of flu  0.08000000000000002\n"
     ]
    }
   ],
   "source": [
    "# probability of corona in general\n",
    "p_corona = .001\n",
    "# propability of flu in general\n",
    "p_flu = .1\n",
    "\n",
    "p_corona_cough_fever=cough_fever_corona*p_corona/p_cough_fever\n",
    "print('probability of conrona ',p_corona_cough_fever)\n",
    "p_flu_cough_fever = cough_fever_flu*p_flu/p_cough_fever\n",
    "print('probability of flu ',p_flu_cough_fever)"
   ]
  },
  {
   "cell_type": "markdown",
   "metadata": {},
   "source": [
    "## Situation In April"
   ]
  },
  {
   "cell_type": "code",
   "execution_count": 9,
   "metadata": {},
   "outputs": [
    {
     "name": "stdout",
     "output_type": "stream",
     "text": [
      "probability of conrona  0.0625\n",
      "probability of flu  0.04000000000000001\n"
     ]
    }
   ],
   "source": [
    "p_flu = .05\n",
    "p_corona = .05\n",
    "p_corona_cough_fever=cough_fever_corona*p_corona/p_cough_fever\n",
    "print('probability of conrona ',p_corona_cough_fever)\n",
    "p_flu_cough_fever = cough_fever_flu*p_flu/p_cough_fever\n",
    "print('probability of flu ',p_flu_cough_fever)"
   ]
  },
  {
   "cell_type": "markdown",
   "metadata": {},
   "source": [
    "## Some thoughts\n",
    "\n",
    "Despite the fact that Baye's theorem shows that in January COVD-19 was an unlikely diagnosis given respitory symptioms... but \n",
    "1.  COVD-19 is more dangerous to an individual then flu\n",
    "2.  More importantly COVD-19 is much more dangerous to the community, as it is a new virus\n",
    "\n",
    "so...\n",
    "\n",
    "Despite low probability of coronavirus cases in January, it should of been taken seriously as a possibility given the higher cost to an individual and much higher cost to society.\n",
    "\n",
    "Cost must be taken into account"
   ]
  },
  {
   "cell_type": "code",
   "execution_count": null,
   "metadata": {},
   "outputs": [],
   "source": []
  }
 ],
 "metadata": {
  "kernelspec": {
   "display_name": "Python 3",
   "language": "python",
   "name": "python3"
  },
  "language_info": {
   "codemirror_mode": {
    "name": "ipython",
    "version": 3
   },
   "file_extension": ".py",
   "mimetype": "text/x-python",
   "name": "python",
   "nbconvert_exporter": "python",
   "pygments_lexer": "ipython3",
   "version": "3.7.4"
  }
 },
 "nbformat": 4,
 "nbformat_minor": 2
}
