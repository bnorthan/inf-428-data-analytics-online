{
 "cells": [
  {
   "cell_type": "code",
   "execution_count": 1,
   "metadata": {},
   "outputs": [],
   "source": [
    "import pandas as pd"
   ]
  },
  {
   "cell_type": "code",
   "execution_count": 4,
   "metadata": {},
   "outputs": [],
   "source": [
    "data=pd.read_csv('Alex_Lee_obesityrates.csv')"
   ]
  },
  {
   "cell_type": "code",
   "execution_count": 34,
   "metadata": {},
   "outputs": [
    {
     "data": {
      "text/html": [
       "<div>\n",
       "<style scoped>\n",
       "    .dataframe tbody tr th:only-of-type {\n",
       "        vertical-align: middle;\n",
       "    }\n",
       "\n",
       "    .dataframe tbody tr th {\n",
       "        vertical-align: top;\n",
       "    }\n",
       "\n",
       "    .dataframe thead th {\n",
       "        text-align: right;\n",
       "    }\n",
       "</style>\n",
       "<table border=\"1\" class=\"dataframe\">\n",
       "  <thead>\n",
       "    <tr style=\"text-align: right;\">\n",
       "      <th></th>\n",
       "      <th>LOCATION</th>\n",
       "      <th>INDICATOR</th>\n",
       "      <th>SUBJECT</th>\n",
       "      <th>MEASURE</th>\n",
       "      <th>FREQUENCY</th>\n",
       "      <th>TIME</th>\n",
       "      <th>Value</th>\n",
       "      <th>Flag Codes</th>\n",
       "    </tr>\n",
       "  </thead>\n",
       "  <tbody>\n",
       "    <tr>\n",
       "      <td>0</td>\n",
       "      <td>AUS</td>\n",
       "      <td>OVEROBESE</td>\n",
       "      <td>MEASURED</td>\n",
       "      <td>PC_POP15</td>\n",
       "      <td>A</td>\n",
       "      <td>2017</td>\n",
       "      <td>65.2</td>\n",
       "      <td>NaN</td>\n",
       "    </tr>\n",
       "    <tr>\n",
       "      <td>1</td>\n",
       "      <td>AUS</td>\n",
       "      <td>OVEROBESE</td>\n",
       "      <td>SELFREPORTED</td>\n",
       "      <td>PC_POP15</td>\n",
       "      <td>A</td>\n",
       "      <td>2017</td>\n",
       "      <td>47.6</td>\n",
       "      <td>NaN</td>\n",
       "    </tr>\n",
       "    <tr>\n",
       "      <td>2</td>\n",
       "      <td>BEL</td>\n",
       "      <td>OVEROBESE</td>\n",
       "      <td>SELFREPORTED</td>\n",
       "      <td>PC_POP15</td>\n",
       "      <td>A</td>\n",
       "      <td>2018</td>\n",
       "      <td>49.3</td>\n",
       "      <td>NaN</td>\n",
       "    </tr>\n",
       "    <tr>\n",
       "      <td>3</td>\n",
       "      <td>CAN</td>\n",
       "      <td>OVEROBESE</td>\n",
       "      <td>MEASURED</td>\n",
       "      <td>PC_POP15</td>\n",
       "      <td>A</td>\n",
       "      <td>2017</td>\n",
       "      <td>59.1</td>\n",
       "      <td>NaN</td>\n",
       "    </tr>\n",
       "    <tr>\n",
       "      <td>4</td>\n",
       "      <td>CAN</td>\n",
       "      <td>OVEROBESE</td>\n",
       "      <td>SELFREPORTED</td>\n",
       "      <td>PC_POP15</td>\n",
       "      <td>A</td>\n",
       "      <td>2016</td>\n",
       "      <td>53.1</td>\n",
       "      <td>NaN</td>\n",
       "    </tr>\n",
       "  </tbody>\n",
       "</table>\n",
       "</div>"
      ],
      "text/plain": [
       "  LOCATION  INDICATOR       SUBJECT   MEASURE FREQUENCY  TIME  Value  \\\n",
       "0      AUS  OVEROBESE      MEASURED  PC_POP15         A  2017   65.2   \n",
       "1      AUS  OVEROBESE  SELFREPORTED  PC_POP15         A  2017   47.6   \n",
       "2      BEL  OVEROBESE  SELFREPORTED  PC_POP15         A  2018   49.3   \n",
       "3      CAN  OVEROBESE      MEASURED  PC_POP15         A  2017   59.1   \n",
       "4      CAN  OVEROBESE  SELFREPORTED  PC_POP15         A  2016   53.1   \n",
       "\n",
       "  Flag Codes  \n",
       "0        NaN  \n",
       "1        NaN  \n",
       "2        NaN  \n",
       "3        NaN  \n",
       "4        NaN  "
      ]
     },
     "execution_count": 34,
     "metadata": {},
     "output_type": "execute_result"
    }
   ],
   "source": [
    "data.head()"
   ]
  },
  {
   "cell_type": "code",
   "execution_count": 35,
   "metadata": {},
   "outputs": [
    {
     "data": {
      "text/plain": [
       "(61, 8)"
      ]
     },
     "execution_count": 35,
     "metadata": {},
     "output_type": "execute_result"
    }
   ],
   "source": [
    "data.shape"
   ]
  },
  {
   "cell_type": "code",
   "execution_count": 36,
   "metadata": {},
   "outputs": [
    {
     "data": {
      "text/plain": [
       "array(['AUS', 'BEL', 'CAN', 'FIN', 'DEU', 'GRC', 'ISL', 'IRL', 'ITA',\n",
       "       'JPN', 'KOR', 'MEX', 'NLD', 'NZL', 'ESP', 'SWE', 'CHE', 'GBR',\n",
       "       'USA', 'CHL', 'EST', 'ISR', 'DNK', 'TUR', 'LVA'], dtype=object)"
      ]
     },
     "execution_count": 36,
     "metadata": {},
     "output_type": "execute_result"
    }
   ],
   "source": [
    "data.LOCATION.unique()"
   ]
  },
  {
   "cell_type": "code",
   "execution_count": 37,
   "metadata": {},
   "outputs": [],
   "source": [
    "groups=data.groupby('SUBJECT')"
   ]
  },
  {
   "cell_type": "code",
   "execution_count": 38,
   "metadata": {},
   "outputs": [],
   "source": [
    "means=groups.mean()"
   ]
  },
  {
   "cell_type": "code",
   "execution_count": 39,
   "metadata": {},
   "outputs": [
    {
     "data": {
      "text/html": [
       "<div>\n",
       "<style scoped>\n",
       "    .dataframe tbody tr th:only-of-type {\n",
       "        vertical-align: middle;\n",
       "    }\n",
       "\n",
       "    .dataframe tbody tr th {\n",
       "        vertical-align: top;\n",
       "    }\n",
       "\n",
       "    .dataframe thead th {\n",
       "        text-align: right;\n",
       "    }\n",
       "</style>\n",
       "<table border=\"1\" class=\"dataframe\">\n",
       "  <thead>\n",
       "    <tr style=\"text-align: right;\">\n",
       "      <th></th>\n",
       "      <th>TIME</th>\n",
       "      <th>Value</th>\n",
       "    </tr>\n",
       "    <tr>\n",
       "      <th>SUBJECT</th>\n",
       "      <th></th>\n",
       "      <th></th>\n",
       "    </tr>\n",
       "  </thead>\n",
       "  <tbody>\n",
       "    <tr>\n",
       "      <td>MEASURED</td>\n",
       "      <td>2017.115385</td>\n",
       "      <td>56.757692</td>\n",
       "    </tr>\n",
       "    <tr>\n",
       "      <td>SELFREPORTED</td>\n",
       "      <td>2017.028571</td>\n",
       "      <td>50.631429</td>\n",
       "    </tr>\n",
       "  </tbody>\n",
       "</table>\n",
       "</div>"
      ],
      "text/plain": [
       "                     TIME      Value\n",
       "SUBJECT                             \n",
       "MEASURED      2017.115385  56.757692\n",
       "SELFREPORTED  2017.028571  50.631429"
      ]
     },
     "execution_count": 39,
     "metadata": {},
     "output_type": "execute_result"
    }
   ],
   "source": [
    "means"
   ]
  },
  {
   "cell_type": "code",
   "execution_count": 45,
   "metadata": {},
   "outputs": [
    {
     "data": {
      "text/plain": [
       "<matplotlib.axes._subplots.AxesSubplot at 0x22ffde58948>"
      ]
     },
     "execution_count": 45,
     "metadata": {},
     "output_type": "execute_result"
    },
    {
     "data": {
      "image/png": "[encoded data removed]",
      "text/plain": [
       "<Figure size 432x288 with 1 Axes>"
      ]
     },
     "metadata": {
      "needs_background": "light"
     },
     "output_type": "display_data"
    }
   ],
   "source": [
    "means.Value.plot(kind='bar')"
   ]
  },
  {
   "cell_type": "code",
   "execution_count": null,
   "metadata": {},
   "outputs": [],
   "source": []
  }
 ],
 "metadata": {
  "kernelspec": {
   "display_name": "Python 3",
   "language": "python",
   "name": "python3"
  },
  "language_info": {
   "codemirror_mode": {
    "name": "ipython",
    "version": 3
   },
   "file_extension": ".py",
   "mimetype": "text/x-python",
   "name": "python",
   "nbconvert_exporter": "python",
   "pygments_lexer": "ipython3",
   "version": "3.7.4"
  }
 },
 "nbformat": 4,
 "nbformat_minor": 2
}
